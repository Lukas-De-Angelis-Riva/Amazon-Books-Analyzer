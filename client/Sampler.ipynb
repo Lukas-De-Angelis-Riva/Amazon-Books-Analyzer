{
 "cells": [
  {
   "cell_type": "code",
   "execution_count": 1,
   "id": "c3b8a07e-b5f4-4618-a892-5315f7c5ccea",
   "metadata": {},
   "outputs": [],
   "source": [
    "import pandas as pd\n",
    "import numpy as np"
   ]
  },
  {
   "cell_type": "code",
   "execution_count": 2,
   "id": "83872c4c-0ea8-4728-99c9-df2b9575c452",
   "metadata": {},
   "outputs": [],
   "source": [
    "def check(book):\n",
    "    if pd.isna(book['Title']) or pd.isna(book['authors']) or pd.isna(book['publisher']) or pd.isna(book['publishedDate']) or pd.isna(book['categories']):\n",
    "        return False\n",
    "\n",
    "    title=book['Title']\n",
    "    authors=[author.strip(\" '[]\") for author in book['authors'].split(',') if author.strip(\" '[]\") != \"\"]\n",
    "    publisher=book['publisher']\n",
    "    publishedDate=book['publishedDate'].split(\"-\")[0].strip(\"*?\")\n",
    "    categories=[category.strip(\" '[]\") for category in book['categories'].split(',')]\n",
    "    if len(title) == 0 or \\\n",
    "        len(authors) == 0 or \\\n",
    "        len(publisher) == 0 or \\\n",
    "        len(publishedDate) == 0 or \\\n",
    "        len(categories) == 0:\n",
    "        return False\n",
    "    return True"
   ]
  },
  {
   "cell_type": "code",
   "execution_count": 3,
   "id": "ebb85a16-3ecc-4e0f-8d45-90b81ed8d646",
   "metadata": {},
   "outputs": [],
   "source": [
    "df_books = pd.read_csv(\"./data/books_data.csv\")"
   ]
  },
  {
   "cell_type": "code",
   "execution_count": 4,
   "id": "1d4d52e4-41ea-414d-953c-32c6ec4c8700",
   "metadata": {},
   "outputs": [],
   "source": [
    "df_good_books = df_books[df_books.apply(check, axis=1)]"
   ]
  },
  {
   "cell_type": "code",
   "execution_count": 5,
   "id": "dd329f93-b0b9-4253-a327-9a070c380fc6",
   "metadata": {},
   "outputs": [],
   "source": [
    "df_b1 = df_good_books.sample(25000)\n",
    "df_b2 = df_good_books.sample(25000)\n",
    "df_b3 = df_good_books.sample(25000)\n",
    "df_b4 = df_good_books.sample(25000)\n",
    "df_b5 = df_good_books.sample(25000)"
   ]
  },
  {
   "cell_type": "code",
   "execution_count": 6,
   "id": "abe03a46-d071-4bad-a730-85c53ec31fd0",
   "metadata": {},
   "outputs": [],
   "source": [
    "df_reviews = pd.read_csv(\"./data/books_rating.csv\")"
   ]
  },
  {
   "cell_type": "code",
   "execution_count": 8,
   "id": "4108b002-8b87-4e22-81c7-0a45cd081f98",
   "metadata": {},
   "outputs": [],
   "source": [
    "def check_r(review):\n",
    "    if pd.isna(review['Title']) or pd.isna(review['review/text']):\n",
    "        return False\n",
    "    return True\n",
    "df_review_good = df_reviews[df_reviews.apply(check_r, axis=1)]"
   ]
  },
  {
   "cell_type": "code",
   "execution_count": 10,
   "id": "2be7abfb-8398-4677-94ff-d5e9b45c9e43",
   "metadata": {},
   "outputs": [],
   "source": [
    "def get_reviews(df_b):\n",
    "    _titles = set(df_b[\"Title\"])\n",
    "    return df_review_good[df_review_good[\"Title\"].isin(_titles)]"
   ]
  },
  {
   "cell_type": "code",
   "execution_count": 11,
   "id": "46e4cf06-acbe-44f1-b677-f2160253487c",
   "metadata": {},
   "outputs": [],
   "source": [
    "df_r1 = get_reviews(df_b1)\n",
    "df_r2 = get_reviews(df_b2)\n",
    "df_r3 = get_reviews(df_b3)\n",
    "df_r4 = get_reviews(df_b4)\n",
    "df_r5 = get_reviews(df_b5)"
   ]
  },
  {
   "cell_type": "code",
   "execution_count": 19,
   "id": "d37970a5-ad7d-42a6-acc9-123bad98b184",
   "metadata": {},
   "outputs": [],
   "source": [
    "df_b1.to_csv('./data/books_1.csv', index=False)\n",
    "df_r1.to_csv('./data/books_ratings_1.csv', index=False)\n",
    "\n",
    "df_b2.to_csv('./data/books_2.csv', index=False)\n",
    "df_r2.to_csv('./data/books_ratings_2.csv', index=False)\n",
    "\n",
    "df_b3.to_csv('./data/books_3.csv', index=False)\n",
    "df_r3.to_csv('./data/books_ratings_3.csv', index=False)\n",
    "\n",
    "df_b4.to_csv('./data/books_4.csv', index=False)\n",
    "df_r4.to_csv('./data/books_ratings_4.csv', index=False)\n",
    "\n",
    "df_b5.to_csv('./data/books_5.csv', index=False)\n",
    "df_r5.to_csv('./data/books_ratings_5.csv', index=False)"
   ]
  }
 ],
 "metadata": {
  "kernelspec": {
   "display_name": "Python 3 (ipykernel)",
   "language": "python",
   "name": "python3"
  },
  "language_info": {
   "codemirror_mode": {
    "name": "ipython",
    "version": 3
   },
   "file_extension": ".py",
   "mimetype": "text/x-python",
   "name": "python",
   "nbconvert_exporter": "python",
   "pygments_lexer": "ipython3",
   "version": "3.10.12"
  }
 },
 "nbformat": 4,
 "nbformat_minor": 5
}
