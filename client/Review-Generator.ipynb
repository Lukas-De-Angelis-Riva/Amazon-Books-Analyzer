{
 "cells": [
  {
   "cell_type": "code",
   "execution_count": 7,
   "id": "0bc64a7d-6277-4663-a138-7821d0742ec2",
   "metadata": {},
   "outputs": [],
   "source": [
    "import csv\n",
    "import random\n",
    "\n",
    "\"A Game of Thrones\"\n",
    "\"The Silmarillion\"\n",
    "\"The Final Empire\""
   ]
  },
  {
   "cell_type": "code",
   "execution_count": 5,
   "id": "67458eba-55fc-4a8e-a764-cf81b4962f50",
   "metadata": {},
   "outputs": [],
   "source": [
    "with open(\"test_reviews.csv\", \"w\") as f:\n",
    "    writer = csv.writer(f)\n",
    "    writer.writerow(['Id','Title','Price','User_id','profileName','review/helpfulness','review/score','review/time','review/summary','review/text'])"
   ]
  },
  {
   "cell_type": "code",
   "execution_count": 18,
   "id": "045b46d0-e897-4ecb-846a-4e8259ba25bc",
   "metadata": {},
   "outputs": [
    {
     "ename": "NameError",
     "evalue": "name 'csv' is not defined",
     "output_type": "error",
     "traceback": [
      "\u001b[0;31m---------------------------------------------------------------------------\u001b[0m",
      "\u001b[0;31mNameError\u001b[0m                                 Traceback (most recent call last)",
      "Cell \u001b[0;32mIn[18], line 11\u001b[0m\n\u001b[1;32m      9\u001b[0m N \u001b[38;5;241m=\u001b[39m \u001b[38;5;241m100\u001b[39m\n\u001b[1;32m     10\u001b[0m \u001b[38;5;28;01mwith\u001b[39;00m \u001b[38;5;28mopen\u001b[39m(\u001b[38;5;124m\"\u001b[39m\u001b[38;5;124mtest_reviews.csv\u001b[39m\u001b[38;5;124m\"\u001b[39m, \u001b[38;5;124m\"\u001b[39m\u001b[38;5;124mw\u001b[39m\u001b[38;5;124m\"\u001b[39m) \u001b[38;5;28;01mas\u001b[39;00m f:\n\u001b[0;32m---> 11\u001b[0m     writer \u001b[38;5;241m=\u001b[39m \u001b[43mcsv\u001b[49m\u001b[38;5;241m.\u001b[39mwriter(f)\n\u001b[1;32m     12\u001b[0m     i\u001b[38;5;241m=\u001b[39m\u001b[38;5;241m0\u001b[39m\n\u001b[1;32m     13\u001b[0m     \u001b[38;5;28;01mfor\u001b[39;00m _ \u001b[38;5;129;01min\u001b[39;00m \u001b[38;5;28mrange\u001b[39m(\u001b[38;5;241m0\u001b[39m, N):\n",
      "\u001b[0;31mNameError\u001b[0m: name 'csv' is not defined"
     ]
    }
   ],
   "source": [
    "reviews = [\n",
    "    \"THIS BOOK IS LITERALLY SO BAD. DON'T BUY IT. DON'T READ IT.\",\n",
    "    \"I DON'T GET WHY PEOPLE LOVE THIS BOOK... IS BORING\",\n",
    "    \"NOT BAD, NOT GOOD\",\n",
    "    \"THIS BOOK IS SO GOOD. I LOVE IT\",\n",
    "    \"THIS IS THE BEST BOOK EVER WRITTEN\",\n",
    "]\n",
    "title = 'The Silmarillion'\n",
    "N = 4\n",
    "with open(\"test_reviews.csv\", \"a\") as f:\n",
    "    writer = csv.writer(f)\n",
    "    i=0\n",
    "    for _ in range(0, N):\n",
    "        score = random.randint(1, 5)\n",
    "        review = reviews[score-1]\n",
    "        writer.writerow([\n",
    "            i, # ID\n",
    "            title, # TITLE\n",
    "            None, # PRICE\n",
    "            None, # USER_ID\n",
    "            None, # PROFILE_NAME\n",
    "            None, # HELPFULNESS\n",
    "            score, # SCORE\n",
    "            None, # TIME\n",
    "            None, # SUMMARY\n",
    "            review, # TEXT\n",
    "        ])\n",
    "        i+=1"
   ]
  },
  {
   "cell_type": "code",
   "execution_count": null,
   "id": "e9413211-7207-40db-b5d6-1e71e566bac0",
   "metadata": {},
   "outputs": [],
   "source": [
    "\n"
   ]
  }
 ],
 "metadata": {
  "kernelspec": {
   "display_name": "Python 3 (ipykernel)",
   "language": "python",
   "name": "python3"
  },
  "language_info": {
   "codemirror_mode": {
    "name": "ipython",
    "version": 3
   },
   "file_extension": ".py",
   "mimetype": "text/x-python",
   "name": "python",
   "nbconvert_exporter": "python",
   "pygments_lexer": "ipython3",
   "version": "3.10.12"
  }
 },
 "nbformat": 4,
 "nbformat_minor": 5
}
