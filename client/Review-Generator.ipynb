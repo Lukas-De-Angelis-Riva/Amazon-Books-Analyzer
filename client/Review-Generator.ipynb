{
 "cells": [
  {
   "cell_type": "code",
   "execution_count": 7,
   "id": "0bc64a7d-6277-4663-a138-7821d0742ec2",
   "metadata": {},
   "outputs": [],
   "source": [
    "import csv\n",
    "import random"
   ]
  },
  {
   "cell_type": "code",
   "execution_count": 5,
   "id": "67458eba-55fc-4a8e-a764-cf81b4962f50",
   "metadata": {},
   "outputs": [],
   "source": [
    "with open(\"test_reviews.csv\", \"w\") as f:\n",
    "    writer = csv.writer(f)\n",
    "    writer.writerow(['Id','Title','Price','User_id','profileName','review/helpfulness','review/score','review/time','review/summary','review/text'])"
   ]
  },
  {
   "cell_type": "code",
   "execution_count": 13,
   "id": "045b46d0-e897-4ecb-846a-4e8259ba25bc",
   "metadata": {},
   "outputs": [],
   "source": [
    "title = 'The Final Empire'\n",
    "N = 4\n",
    "with open(\"test_reviews.csv\", \"a\") as f:\n",
    "    writer = csv.writer(f)\n",
    "    i=0\n",
    "    for _ in range(0, N):\n",
    "        score = random.randint(1, 5)\n",
    "        writer.writerow([\n",
    "            i, # ID\n",
    "            title, # TITLE\n",
    "            None, # PRICE\n",
    "            None, # USER_ID\n",
    "            None, # PROFILE_NAME\n",
    "            None, # HELPFULNESS\n",
    "            score, # SCORE\n",
    "            None, # TIME\n",
    "            None, # SUMMARY\n",
    "            \"A review\", # TEXT\n",
    "        ])\n",
    "        i+=1"
   ]
  },
  {
   "cell_type": "code",
   "execution_count": null,
   "id": "6045623e-a6a6-400a-a4c2-c86eea5a10c5",
   "metadata": {},
   "outputs": [],
   "source": []
  }
 ],
 "metadata": {
  "kernelspec": {
   "display_name": "Python 3 (ipykernel)",
   "language": "python",
   "name": "python3"
  },
  "language_info": {
   "codemirror_mode": {
    "name": "ipython",
    "version": 3
   },
   "file_extension": ".py",
   "mimetype": "text/x-python",
   "name": "python",
   "nbconvert_exporter": "python",
   "pygments_lexer": "ipython3",
   "version": "3.10.12"
  }
 },
 "nbformat": 4,
 "nbformat_minor": 5
}
